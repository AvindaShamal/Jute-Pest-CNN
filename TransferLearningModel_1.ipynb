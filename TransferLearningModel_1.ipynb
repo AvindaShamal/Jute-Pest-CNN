{
 "cells": [
  {
   "cell_type": "markdown",
   "metadata": {},
   "source": [
    "Part 2"
   ]
  },
  {
   "cell_type": "markdown",
   "metadata": {},
   "source": [
    "12. ResNet50"
   ]
  },
  {
   "cell_type": "code",
   "execution_count": 3,
   "metadata": {},
   "outputs": [],
   "source": [
    "import numpy as np\n",
    "import tensorflow as tf\n",
    "from tensorflow import keras\n",
    "import cv2 as cv\n",
    "\n",
    "from tensorflow.keras import layers, models\n",
    "from tensorflow.keras.applications import ResNet50\n",
    "import os"
   ]
  },
  {
   "cell_type": "markdown",
   "metadata": {},
   "source": [
    "Data preprocessing"
   ]
  },
  {
   "cell_type": "code",
   "execution_count": 4,
   "metadata": {},
   "outputs": [
    {
     "name": "stdout",
     "output_type": "stream",
     "text": [
      "Found 6443 files belonging to 17 classes.\n",
      "Found 413 files belonging to 17 classes.\n",
      "Found 379 files belonging to 17 classes.\n"
     ]
    }
   ],
   "source": [
    "# Set the base directory for the Jute Pest Dataset and define image parameters\n",
    "base_dir = \"Jute_Pest_Dataset/Jute_Pest_Dataset\"\n",
    "batch_size = 32\n",
    "img_height = 224\n",
    "img_width = 224\n",
    "\n",
    "# Define directories for training, validation, and test datasets\n",
    "train_dir = f'{base_dir}/train'\n",
    "val_dir = f'{base_dir}/val'\n",
    "test_dir = f'{base_dir}/test'\n",
    "\n",
    "# Load and preprocess the training dataset with specified image size and batch size\n",
    "train_ds = tf.keras.preprocessing.image_dataset_from_directory(\n",
    "  train_dir,\n",
    "  seed=42,\n",
    "  image_size=(img_height, img_width),\n",
    "  batch_size=batch_size)\n",
    "\n",
    "# Save the class names from the training dataset for reference\n",
    "class_names = train_ds.class_names\n",
    "\n",
    "# Load and preprocess the validation dataset with the same parameters\n",
    "val_ds = tf.keras.preprocessing.image_dataset_from_directory(\n",
    "  val_dir,\n",
    "  seed=42,\n",
    "  image_size=(img_height, img_width),\n",
    "  batch_size=batch_size)\n",
    "\n",
    "# Load and preprocess the test dataset, using similar parameters\n",
    "test_ds = tf.keras.preprocessing.image_dataset_from_directory(\n",
    "  test_dir,\n",
    "  seed=42,\n",
    "  image_size=(img_height, img_width),\n",
    "  batch_size=batch_size)\n",
    "\n",
    "# Define data augmentation layer with random transformations to improve model generalization\n",
    "data_augmentation = keras.Sequential([\n",
    "    keras.layers.RandomFlip(\"horizontal_and_vertical\"),  # Randomly flip images horizontally and vertically\n",
    "    keras.layers.RandomRotation(0.2),                    # Apply random rotation to images\n",
    "    keras.layers.RandomZoom(0.2),                        # Zoom images randomly\n",
    "    keras.layers.RandomContrast(0.1)                     # Adjust image contrast randomly\n",
    "])\n",
    "\n",
    "# Apply data augmentation to the training dataset\n",
    "train_ds = train_ds.map(lambda x, y: (data_augmentation(x, training=True), y))\n",
    "\n"
   ]
  },
  {
   "cell_type": "markdown",
   "metadata": {},
   "source": [
    "13, 14, 15, 16"
   ]
  },
  {
   "cell_type": "code",
   "execution_count": 5,
   "metadata": {},
   "outputs": [
    {
     "name": "stdout",
     "output_type": "stream",
     "text": [
      "Training initial epochs 1 to 5...\n",
      "Epoch 1/5\n",
      "\u001b[1m202/202\u001b[0m \u001b[32m━━━━━━━━━━━━━━━━━━━━\u001b[0m\u001b[37m\u001b[0m \u001b[1m616s\u001b[0m 3s/step - accuracy: 0.3942 - loss: 1.9870 - val_accuracy: 0.7385 - val_loss: 0.8688\n",
      "Epoch 2/5\n",
      "\u001b[1m202/202\u001b[0m \u001b[32m━━━━━━━━━━━━━━━━━━━━\u001b[0m\u001b[37m\u001b[0m \u001b[1m577s\u001b[0m 3s/step - accuracy: 0.7498 - loss: 0.7774 - val_accuracy: 0.8111 - val_loss: 0.6795\n",
      "Epoch 3/5\n",
      "\u001b[1m202/202\u001b[0m \u001b[32m━━━━━━━━━━━━━━━━━━━━\u001b[0m\u001b[37m\u001b[0m \u001b[1m599s\u001b[0m 3s/step - accuracy: 0.8145 - loss: 0.5609 - val_accuracy: 0.8281 - val_loss: 0.6201\n",
      "Epoch 4/5\n",
      "\u001b[1m202/202\u001b[0m \u001b[32m━━━━━━━━━━━━━━━━━━━━\u001b[0m\u001b[37m\u001b[0m \u001b[1m555s\u001b[0m 3s/step - accuracy: 0.8555 - loss: 0.4546 - val_accuracy: 0.8402 - val_loss: 0.6134\n",
      "Epoch 5/5\n",
      "\u001b[1m202/202\u001b[0m \u001b[32m━━━━━━━━━━━━━━━━━━━━\u001b[0m\u001b[37m\u001b[0m \u001b[1m567s\u001b[0m 3s/step - accuracy: 0.8759 - loss: 0.3752 - val_accuracy: 0.8596 - val_loss: 0.5455\n"
     ]
    },
    {
     "name": "stderr",
     "output_type": "stream",
     "text": [
      "WARNING:absl:You are saving your model as an HDF5 file via `model.save()` or `keras.saving.save_model(model)`. This file format is considered legacy. We recommend using instead the native Keras format, e.g. `model.save('my_model.keras')` or `keras.saving.save_model(model, 'my_model.keras')`. \n"
     ]
    },
    {
     "name": "stdout",
     "output_type": "stream",
     "text": [
      "Model saved to model_checkpoints\\model_initial_epoch_5.h5\n",
      "Training initial epochs 6 to 10...\n",
      "Epoch 6/10\n",
      "\u001b[1m202/202\u001b[0m \u001b[32m━━━━━━━━━━━━━━━━━━━━\u001b[0m\u001b[37m\u001b[0m \u001b[1m528s\u001b[0m 3s/step - accuracy: 0.8812 - loss: 0.3605 - val_accuracy: 0.8668 - val_loss: 0.4751\n",
      "Epoch 7/10\n",
      "\u001b[1m202/202\u001b[0m \u001b[32m━━━━━━━━━━━━━━━━━━━━\u001b[0m\u001b[37m\u001b[0m \u001b[1m552s\u001b[0m 3s/step - accuracy: 0.8923 - loss: 0.3336 - val_accuracy: 0.8547 - val_loss: 0.4988\n",
      "Epoch 8/10\n",
      "\u001b[1m202/202\u001b[0m \u001b[32m━━━━━━━━━━━━━━━━━━━━\u001b[0m\u001b[37m\u001b[0m \u001b[1m569s\u001b[0m 3s/step - accuracy: 0.9000 - loss: 0.2904 - val_accuracy: 0.8547 - val_loss: 0.4859\n",
      "Epoch 9/10\n",
      "\u001b[1m202/202\u001b[0m \u001b[32m━━━━━━━━━━━━━━━━━━━━\u001b[0m\u001b[37m\u001b[0m \u001b[1m508s\u001b[0m 3s/step - accuracy: 0.9083 - loss: 0.2831 - val_accuracy: 0.8644 - val_loss: 0.4726\n",
      "Epoch 10/10\n",
      "\u001b[1m202/202\u001b[0m \u001b[32m━━━━━━━━━━━━━━━━━━━━\u001b[0m\u001b[37m\u001b[0m \u001b[1m505s\u001b[0m 2s/step - accuracy: 0.9067 - loss: 0.2727 - val_accuracy: 0.8765 - val_loss: 0.5009\n"
     ]
    },
    {
     "name": "stderr",
     "output_type": "stream",
     "text": [
      "WARNING:absl:You are saving your model as an HDF5 file via `model.save()` or `keras.saving.save_model(model)`. This file format is considered legacy. We recommend using instead the native Keras format, e.g. `model.save('my_model.keras')` or `keras.saving.save_model(model, 'my_model.keras')`. \n"
     ]
    },
    {
     "name": "stdout",
     "output_type": "stream",
     "text": [
      "Model saved to model_checkpoints\\model_initial_epoch_10.h5\n",
      "Fine-tuning epochs 11 to 15...\n",
      "Epoch 11/15\n",
      "\u001b[1m202/202\u001b[0m \u001b[32m━━━━━━━━━━━━━━━━━━━━\u001b[0m\u001b[37m\u001b[0m \u001b[1m598s\u001b[0m 3s/step - accuracy: 0.9119 - loss: 0.2616 - val_accuracy: 0.8789 - val_loss: 0.5173\n",
      "Epoch 12/15\n",
      "\u001b[1m202/202\u001b[0m \u001b[32m━━━━━━━━━━━━━━━━━━━━\u001b[0m\u001b[37m\u001b[0m \u001b[1m571s\u001b[0m 3s/step - accuracy: 0.9382 - loss: 0.2092 - val_accuracy: 0.8862 - val_loss: 0.5281\n",
      "Epoch 13/15\n",
      "\u001b[1m202/202\u001b[0m \u001b[32m━━━━━━━━━━━━━━━━━━━━\u001b[0m\u001b[37m\u001b[0m \u001b[1m730s\u001b[0m 4s/step - accuracy: 0.9338 - loss: 0.1967 - val_accuracy: 0.8814 - val_loss: 0.5031\n",
      "Epoch 14/15\n",
      "\u001b[1m202/202\u001b[0m \u001b[32m━━━━━━━━━━━━━━━━━━━━\u001b[0m\u001b[37m\u001b[0m \u001b[1m985s\u001b[0m 5s/step - accuracy: 0.9456 - loss: 0.1711 - val_accuracy: 0.8886 - val_loss: 0.4978\n",
      "Epoch 15/15\n",
      "\u001b[1m202/202\u001b[0m \u001b[32m━━━━━━━━━━━━━━━━━━━━\u001b[0m\u001b[37m\u001b[0m \u001b[1m984s\u001b[0m 5s/step - accuracy: 0.9477 - loss: 0.1596 - val_accuracy: 0.8789 - val_loss: 0.5227\n"
     ]
    },
    {
     "name": "stderr",
     "output_type": "stream",
     "text": [
      "WARNING:absl:You are saving your model as an HDF5 file via `model.save()` or `keras.saving.save_model(model)`. This file format is considered legacy. We recommend using instead the native Keras format, e.g. `model.save('my_model.keras')` or `keras.saving.save_model(model, 'my_model.keras')`. \n"
     ]
    },
    {
     "name": "stdout",
     "output_type": "stream",
     "text": [
      "Model saved to model_checkpoints\\model_finetune_epoch_15.h5\n",
      "Fine-tuning epochs 16 to 20...\n",
      "Epoch 16/20\n",
      "\u001b[1m202/202\u001b[0m \u001b[32m━━━━━━━━━━━━━━━━━━━━\u001b[0m\u001b[37m\u001b[0m \u001b[1m889s\u001b[0m 4s/step - accuracy: 0.9583 - loss: 0.1370 - val_accuracy: 0.8838 - val_loss: 0.5088\n",
      "Epoch 17/20\n",
      "\u001b[1m202/202\u001b[0m \u001b[32m━━━━━━━━━━━━━━━━━━━━\u001b[0m\u001b[37m\u001b[0m \u001b[1m703s\u001b[0m 3s/step - accuracy: 0.9576 - loss: 0.1404 - val_accuracy: 0.8838 - val_loss: 0.5383\n",
      "Epoch 18/20\n",
      "\u001b[1m202/202\u001b[0m \u001b[32m━━━━━━━━━━━━━━━━━━━━\u001b[0m\u001b[37m\u001b[0m \u001b[1m668s\u001b[0m 3s/step - accuracy: 0.9574 - loss: 0.1361 - val_accuracy: 0.8789 - val_loss: 0.5207\n",
      "Epoch 19/20\n",
      "\u001b[1m202/202\u001b[0m \u001b[32m━━━━━━━━━━━━━━━━━━━━\u001b[0m\u001b[37m\u001b[0m \u001b[1m662s\u001b[0m 3s/step - accuracy: 0.9616 - loss: 0.1205 - val_accuracy: 0.8886 - val_loss: 0.5053\n",
      "Epoch 20/20\n",
      "\u001b[1m202/202\u001b[0m \u001b[32m━━━━━━━━━━━━━━━━━━━━\u001b[0m\u001b[37m\u001b[0m \u001b[1m656s\u001b[0m 3s/step - accuracy: 0.9604 - loss: 0.1261 - val_accuracy: 0.8741 - val_loss: 0.5488\n"
     ]
    },
    {
     "name": "stderr",
     "output_type": "stream",
     "text": [
      "WARNING:absl:You are saving your model as an HDF5 file via `model.save()` or `keras.saving.save_model(model)`. This file format is considered legacy. We recommend using instead the native Keras format, e.g. `model.save('my_model.keras')` or `keras.saving.save_model(model, 'my_model.keras')`. \n"
     ]
    },
    {
     "name": "stdout",
     "output_type": "stream",
     "text": [
      "Model saved to model_checkpoints\\model_finetune_epoch_20.h5\n"
     ]
    }
   ],
   "source": [
    "# Set parameters\n",
    "img_height = 224\n",
    "img_width = 224\n",
    "num_classes = 17\n",
    "\n",
    "batch_epochs = 5  # Train 10 epochs at a time\n",
    "total_epochs = 10  # Initial training: 10 epochs\n",
    "fine_tune_total_epochs = 10  # Fine-tuning: 10 epochs\n",
    "\n",
    "# Load the pre-trained ResNet50 model\n",
    "base_model = ResNet50(weights='imagenet', include_top=False, input_shape=(img_height, img_width, 3))\n",
    "base_model.trainable = False  # Freeze base model's layers\n",
    "\n",
    "# Build the model\n",
    "model = models.Sequential([\n",
    "    base_model,\n",
    "    layers.GlobalAveragePooling2D(),\n",
    "    layers.Dense(128, activation='relu'),\n",
    "    layers.Dropout(0.5),\n",
    "    layers.Dense(num_classes, activation='softmax')\n",
    "])\n",
    "\n",
    "# Compile the model\n",
    "model.compile(optimizer='adam', loss='sparse_categorical_crossentropy', metrics=['accuracy'])\n",
    "\n",
    "# Directory to save model checkpoints\n",
    "checkpoint_dir = \"model_checkpoints\"\n",
    "os.makedirs(checkpoint_dir, exist_ok=True)\n",
    "\n",
    "# Resume from the latest checkpoint if exists\n",
    "latest_checkpoint = tf.train.latest_checkpoint(checkpoint_dir)\n",
    "if latest_checkpoint:\n",
    "    print(f\"Resuming from checkpoint: {latest_checkpoint}\")\n",
    "    model = tf.keras.models.load_model(latest_checkpoint)\n",
    "    initial_epoch = int(latest_checkpoint.split('_')[-1].split('.')[0])  # Extract epoch number\n",
    "else:\n",
    "    print(\"No checkpoint found, starting from scratch.\")\n",
    "    initial_epoch = 0\n",
    "\n",
    "# Initial Training: Train in chunks of 10 epochs\n",
    "for start_epoch in range(initial_epoch, total_epochs, batch_epochs):\n",
    "    end_epoch = min(start_epoch + batch_epochs, total_epochs)\n",
    "    print(f\"Training initial epochs {start_epoch + 1} to {end_epoch}...\")\n",
    "\n",
    "    history = model.fit(\n",
    "        train_ds,\n",
    "        validation_data=val_ds,\n",
    "        initial_epoch=start_epoch,\n",
    "        epochs=end_epoch\n",
    "    )\n",
    "\n",
    "    checkpoint_path = os.path.join(checkpoint_dir, f\"model_initial_epoch_{end_epoch}.h5\")\n",
    "    model.save(checkpoint_path)\n",
    "    print(f\"Model saved to {checkpoint_path}\")\n",
    "\n",
    "# Fine-Tuning: Unfreeze some layers and re-train\n",
    "base_model.trainable = True\n",
    "for layer in base_model.layers[:-10]:  # Freeze all but the last 10 layers\n",
    "    layer.trainable = False\n",
    "\n",
    "model.compile(optimizer=tf.keras.optimizers.Adam(1e-5), loss='sparse_categorical_crossentropy', metrics=['accuracy'])\n",
    "\n",
    "# Fine-tuning: Train in chunks of 10 epochs\n",
    "for start_epoch in range(total_epochs, total_epochs + fine_tune_total_epochs, batch_epochs):\n",
    "    end_epoch = min(start_epoch + batch_epochs, total_epochs + fine_tune_total_epochs)\n",
    "    print(f\"Fine-tuning epochs {start_epoch + 1} to {end_epoch}...\")\n",
    "\n",
    "    history = model.fit(\n",
    "        train_ds,\n",
    "        validation_data=val_ds,\n",
    "        initial_epoch=start_epoch,\n",
    "        epochs=end_epoch\n",
    "    )\n",
    "\n",
    "    checkpoint_path = os.path.join(checkpoint_dir, f\"model_finetune_epoch_{end_epoch}.h5\")\n",
    "    model.save(checkpoint_path)\n",
    "    print(f\"Model saved to {checkpoint_path}\")\n"
   ]
  },
  {
   "cell_type": "code",
   "execution_count": 7,
   "metadata": {},
   "outputs": [
    {
     "name": "stderr",
     "output_type": "stream",
     "text": [
      "WARNING:absl:You are saving your model as an HDF5 file via `model.save()` or `keras.saving.save_model(model)`. This file format is considered legacy. We recommend using instead the native Keras format, e.g. `model.save('my_model.keras')` or `keras.saving.save_model(model, 'my_model.keras')`. \n"
     ]
    }
   ],
   "source": [
    "model.save('TrainedModel.h5')"
   ]
  },
  {
   "cell_type": "code",
   "execution_count": 11,
   "metadata": {},
   "outputs": [
    {
     "name": "stdout",
     "output_type": "stream",
     "text": [
      "\u001b[1m12/12\u001b[0m \u001b[32m━━━━━━━━━━━━━━━━━━━━\u001b[0m\u001b[37m\u001b[0m \u001b[1m27s\u001b[0m 2s/step - accuracy: 0.9541 - loss: 0.2009\n",
      "Test Accuracy of fine-tuned ResNet-50: 0.97\n",
      "Test Loss of fine-tuned ResNet-50: 0.10\n"
     ]
    },
    {
     "data": {
      "text/plain": [
       "[]"
      ]
     },
     "execution_count": 11,
     "metadata": {},
     "output_type": "execute_result"
    },
    {
     "data": {
      "image/png": "[encoded data removed]",
      "text/plain": [
       "<Figure size 1200x400 with 2 Axes>"
      ]
     },
     "metadata": {},
     "output_type": "display_data"
    }
   ],
   "source": [
    "from matplotlib import pyplot as plt\n",
    "\n",
    "# Evaluate on test set\n",
    "test_loss, test_accuracy = model.evaluate(test_ds)\n",
    "print(f\"Test Accuracy of fine-tuned ResNet-50: {test_accuracy:.2f}\")\n",
    "print(f\"Test Loss of fine-tuned ResNet-50: {test_loss:.2f}\")\n",
    "\n",
    "# Record losses and accuracy for plotting\n",
    "train_loss = history.history['loss'] \n",
    "val_loss = history.history['val_loss']\n",
    "train_accuracy = history.history['accuracy'] \n",
    "val_accuracy = history.history['val_accuracy']\n",
    "\n",
    "# Plot training and validation loss\n",
    "plt.figure(figsize=(12, 4))\n",
    "plt.subplot(1, 2, 1)\n",
    "plt.plot(train_loss, label='Training Loss')\n",
    "plt.plot(val_loss, label='Validation Loss')\n",
    "plt.xlabel('Epoch')\n",
    "plt.ylabel('Loss')\n",
    "plt.title('Training and Validation Loss')\n",
    "plt.legend()\n",
    "\n",
    "# Plot training and validation accuracy\n",
    "plt.subplot(1, 2, 2)\n",
    "plt.plot(train_accuracy, label='Training Accuracy')\n",
    "plt.plot(val_accuracy, label='Validation Accuracy')\n",
    "plt.xlabel('Epoch')\n",
    "plt.ylabel('Accuracy')\n",
    "plt.title('Training and Validation Accuracy')\n",
    "plt.legend()\n",
    "\n",
    "plt.plot()"
   ]
  }
 ],
 "metadata": {
  "kernelspec": {
   "display_name": "base",
   "language": "python",
   "name": "python3"
  },
  "language_info": {
   "codemirror_mode": {
    "name": "ipython",
    "version": 3
   },
   "file_extension": ".py",
   "mimetype": "text/x-python",
   "name": "python",
   "nbconvert_exporter": "python",
   "pygments_lexer": "ipython3",
   "version": "3.11.7"
  }
 },
 "nbformat": 4,
 "nbformat_minor": 2
}
